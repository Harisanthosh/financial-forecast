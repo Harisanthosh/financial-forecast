{
  "nbformat": 4,
  "nbformat_minor": 0,
  "metadata": {
    "colab": {
      "name": "SBI_POD.ipynb",
      "provenance": [],
      "include_colab_link": true
    },
    "kernelspec": {
      "name": "python3",
      "display_name": "Python 3"
    }
  },
  "cells": [
    {
      "cell_type": "markdown",
      "metadata": {
        "id": "view-in-github",
        "colab_type": "text"
      },
      "source": [
        "<a href=\"https://colab.research.google.com/github/Harisanthosh/financial-forecast/blob/master/SBI_POD.ipynb\" target=\"_parent\"><img src=\"https://colab.research.google.com/assets/colab-badge.svg\" alt=\"Open In Colab\"/></a>"
      ]
    },
    {
      "cell_type": "code",
      "metadata": {
        "id": "6eLD3q57Yvsj",
        "colab_type": "code",
        "colab": {
          "base_uri": "https://localhost:8080/",
          "height": 620
        },
        "outputId": "9a97f8d6-8440-4e9e-db7e-ae51ca859808"
      },
      "source": [
        "!pip install numpy tweepy nsetools\n"
      ],
      "execution_count": 1,
      "outputs": [
        {
          "output_type": "stream",
          "text": [
            "Requirement already satisfied: numpy in /usr/local/lib/python3.6/dist-packages (1.16.5)\n",
            "Requirement already satisfied: tweepy in /usr/local/lib/python3.6/dist-packages (3.6.0)\n",
            "Collecting nsetools\n",
            "  Downloading https://files.pythonhosted.org/packages/d2/37/1a4443208b73484e35ddaf952678c211decffe211ef8f428b2b496fef52e/nsetools-1.0.10.tar.gz\n",
            "Requirement already satisfied: six>=1.10.0 in /usr/local/lib/python3.6/dist-packages (from tweepy) (1.12.0)\n",
            "Requirement already satisfied: requests-oauthlib>=0.7.0 in /usr/local/lib/python3.6/dist-packages (from tweepy) (1.2.0)\n",
            "Requirement already satisfied: PySocks>=1.5.7 in /usr/local/lib/python3.6/dist-packages (from tweepy) (1.7.0)\n",
            "Requirement already satisfied: requests>=2.11.1 in /usr/local/lib/python3.6/dist-packages (from tweepy) (2.21.0)\n",
            "Collecting dateutils (from nsetools)\n",
            "  Downloading https://files.pythonhosted.org/packages/5b/11/246237ce2a1dd87ffebef0e430033f877b31dd208b281914d4fd3c531ee7/dateutils-0.6.6.tar.gz\n",
            "Requirement already satisfied: oauthlib>=3.0.0 in /usr/local/lib/python3.6/dist-packages (from requests-oauthlib>=0.7.0->tweepy) (3.1.0)\n",
            "Requirement already satisfied: chardet<3.1.0,>=3.0.2 in /usr/local/lib/python3.6/dist-packages (from requests>=2.11.1->tweepy) (3.0.4)\n",
            "Requirement already satisfied: urllib3<1.25,>=1.21.1 in /usr/local/lib/python3.6/dist-packages (from requests>=2.11.1->tweepy) (1.24.3)\n",
            "Requirement already satisfied: idna<2.9,>=2.5 in /usr/local/lib/python3.6/dist-packages (from requests>=2.11.1->tweepy) (2.8)\n",
            "Requirement already satisfied: certifi>=2017.4.17 in /usr/local/lib/python3.6/dist-packages (from requests>=2.11.1->tweepy) (2019.6.16)\n",
            "Collecting argparse (from dateutils->nsetools)\n",
            "  Downloading https://files.pythonhosted.org/packages/f2/94/3af39d34be01a24a6e65433d19e107099374224905f1e0cc6bbe1fd22a2f/argparse-1.4.0-py2.py3-none-any.whl\n",
            "Requirement already satisfied: python-dateutil in /usr/local/lib/python3.6/dist-packages (from dateutils->nsetools) (2.5.3)\n",
            "Requirement already satisfied: pytz in /usr/local/lib/python3.6/dist-packages (from dateutils->nsetools) (2018.9)\n",
            "Building wheels for collected packages: nsetools, dateutils\n",
            "  Building wheel for nsetools (setup.py) ... \u001b[?25l\u001b[?25hdone\n",
            "  Created wheel for nsetools: filename=nsetools-1.0.10-cp36-none-any.whl size=9647 sha256=22e3befe513028dd7459dc71eb5244b22dfea121c93d20858fc337d761dbee81\n",
            "  Stored in directory: /root/.cache/pip/wheels/1d/0e/fa/5411606dd2896153f6a25c92557e0669fcb461d350e2c083ec\n",
            "  Building wheel for dateutils (setup.py) ... \u001b[?25l\u001b[?25hdone\n",
            "  Created wheel for dateutils: filename=dateutils-0.6.6-cp36-none-any.whl size=4685 sha256=e47ea358ff47094b3995b35836efc1ec731d049d43f01cdaf25518641685708b\n",
            "  Stored in directory: /root/.cache/pip/wheels/59/7f/14/021981e24cc37ca796f08be16f554c0de9b4922a1c41a2ba05\n",
            "Successfully built nsetools dateutils\n",
            "Installing collected packages: argparse, dateutils, nsetools\n",
            "Successfully installed argparse-1.4.0 dateutils-0.6.6 nsetools-1.0.10\n"
          ],
          "name": "stdout"
        },
        {
          "output_type": "display_data",
          "data": {
            "application/vnd.colab-display-data+json": {
              "pip_warning": {
                "packages": [
                  "argparse"
                ]
              }
            }
          },
          "metadata": {
            "tags": []
          }
        }
      ]
    },
    {
      "cell_type": "code",
      "metadata": {
        "id": "v85LhMJOZA-5",
        "colab_type": "code",
        "colab": {
          "base_uri": "https://localhost:8080/",
          "height": 194
        },
        "outputId": "b50282ae-3bd6-4fff-b1ce-0bace2129857"
      },
      "source": [
        "!pip install bsedata"
      ],
      "execution_count": 1,
      "outputs": [
        {
          "output_type": "stream",
          "text": [
            "Collecting bsedata\n",
            "  Downloading https://files.pythonhosted.org/packages/6b/f8/c4b24d9f501e78c61ce85d509e03ff1f8cb983b69e3dcb1e34776dc2a038/bsedata-0.3.1-py3-none-any.whl\n",
            "Requirement already satisfied: beautifulsoup4 in /usr/local/lib/python3.6/dist-packages (from bsedata) (4.6.3)\n",
            "Requirement already satisfied: requests in /usr/local/lib/python3.6/dist-packages (from bsedata) (2.21.0)\n",
            "Requirement already satisfied: idna<2.9,>=2.5 in /usr/local/lib/python3.6/dist-packages (from requests->bsedata) (2.8)\n",
            "Requirement already satisfied: urllib3<1.25,>=1.21.1 in /usr/local/lib/python3.6/dist-packages (from requests->bsedata) (1.24.3)\n",
            "Requirement already satisfied: chardet<3.1.0,>=3.0.2 in /usr/local/lib/python3.6/dist-packages (from requests->bsedata) (3.0.4)\n",
            "Requirement already satisfied: certifi>=2017.4.17 in /usr/local/lib/python3.6/dist-packages (from requests->bsedata) (2019.6.16)\n",
            "Installing collected packages: bsedata\n",
            "Successfully installed bsedata-0.3.1\n"
          ],
          "name": "stdout"
        }
      ]
    },
    {
      "cell_type": "code",
      "metadata": {
        "id": "q5SPi1suZ_xB",
        "colab_type": "code",
        "colab": {
          "base_uri": "https://localhost:8080/",
          "height": 34
        },
        "outputId": "37fd2e8d-dd61-479f-b5cb-a0aba20b8fe6"
      },
      "source": [
        "from bsedata.bse import BSE\n",
        "b = BSE(update_codes = True)\n",
        "print(b)"
      ],
      "execution_count": 3,
      "outputs": [
        {
          "output_type": "stream",
          "text": [
            "Driver Class for Bombay Stock Exchange (BSE)\n"
          ],
          "name": "stdout"
        }
      ]
    },
    {
      "cell_type": "code",
      "metadata": {
        "id": "ElSo4scnaM9r",
        "colab_type": "code",
        "colab": {
          "base_uri": "https://localhost:8080/",
          "height": 54
        },
        "outputId": "4643fdac-4442-444f-9a35-74475b7700e1"
      },
      "source": [
        "\"\"\"\n",
        "  BSE Codes \n",
        "  \n",
        "  Religare Finvest Ltd - 934837\n",
        "  SPML Infra Limited - 500402\n",
        "  Future Retail Ltd - 540064\n",
        "\"\"\"\n",
        "q = b.getQuote('540064')\n",
        "print(q)"
      ],
      "execution_count": 7,
      "outputs": [
        {
          "output_type": "stream",
          "text": [
            "{'companyName': 'Future Retail Ltd', 'currentValue': '402.85', 'change': '13.50', 'pChange': '3.47', 'updatedOn': '20 Sep 19 | 04:00 PM', 'priceBand': '20%', 'securityID': 'FRETAIL', 'scripCode': '540064', 'group': 'A  / S&P BSE 200', 'faceValue': '2.00', 'industry': 'Department Stores', 'previousClose': '389.35', 'previousOpen': '390.40', 'dayHigh': '406.60', 'dayLow': '385.25', '52weekHigh': '574.00', '52weekLow': '375.00', 'weightedAvgPrice': '397.70', 'totalTradedValue': '1.44 Cr.', 'totalTradedQuantity': '0.36 Lakh', '2WeekAvgQuantity': '8.63 Lakh', 'marketCapFull': '20,247.18 Cr.', 'marketCapFreeFloat': '8,503.81 Cr.', 'upperPriceBand': '483.40', 'lowerPriceBand': '322.30', 'buy': {'1': {'quantity': '-', 'price': '0.00'}, '2': {'quantity': '-', 'price': '0.00'}, '3': {'quantity': '-', 'price': '0.00'}, '4': {'quantity': '-', 'price': '0.00'}, '5': {'quantity': '-', 'price': '0.00'}}, 'sell': {'1': {'price': '0.00', 'quantity': '-'}, '2': {'price': '0.00', 'quantity': '-'}, '3': {'price': '0.00', 'quantity': '-'}, '4': {'price': '0.00', 'quantity': '-'}, '5': {'price': '0.00', 'quantity': '-'}}}\n"
          ],
          "name": "stdout"
        }
      ]
    }
  ]
}